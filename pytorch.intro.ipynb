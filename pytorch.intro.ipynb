{
 "cells": [
  {
   "cell_type": "code",
   "execution_count": 1,
   "metadata": {},
   "outputs": [
    {
     "data": {
      "text/plain": [
       "<torch._C.Generator at 0x7fbb2809f850>"
      ]
     },
     "execution_count": 1,
     "metadata": {},
     "output_type": "execute_result"
    }
   ],
   "source": [
    "import torch\n",
    "import torch.autograd as autograd\n",
    "import torch.functional as F\n",
    "import torch.optim as optim\n",
    "\n",
    "torch.manual_seed(1)"
   ]
  },
  {
   "cell_type": "code",
   "execution_count": 3,
   "metadata": {},
   "outputs": [
    {
     "data": {
      "text/plain": [
       "\n",
       " 1\n",
       " 2\n",
       " 3\n",
       "[torch.FloatTensor of size 3]"
      ]
     },
     "execution_count": 3,
     "metadata": {},
     "output_type": "execute_result"
    }
   ],
   "source": [
    "data = [1., 2., 3.]\n",
    "v = torch.Tensor(data)\n",
    "v"
   ]
  },
  {
   "cell_type": "code",
   "execution_count": 4,
   "metadata": {},
   "outputs": [
    {
     "name": "stdout",
     "output_type": "stream",
     "text": [
      "\n",
      " 1  2  3\n",
      " 4  5  6\n",
      "[torch.FloatTensor of size 2x3]\n",
      "\n"
     ]
    }
   ],
   "source": [
    "mat = [[1., 2., 3.], [4., 5., 6.]]\n",
    "m = torch.Tensor(mat)\n",
    "print(m)"
   ]
  },
  {
   "cell_type": "code",
   "execution_count": 7,
   "metadata": {},
   "outputs": [
    {
     "name": "stdout",
     "output_type": "stream",
     "text": [
      "\n",
      "(0 ,.,.) = \n",
      "   1   2   3\n",
      "   4   5   6\n",
      "\n",
      "(1 ,.,.) = \n",
      "   7   8   9\n",
      "  41  51  61\n",
      "[torch.FloatTensor of size 2x2x3]\n",
      "\n"
     ]
    }
   ],
   "source": [
    "ten = [[[1., 2., 3.], [4., 5., 6.]], [[7., 8., 9.], [41., 51., 61.]]]\n",
    "t = torch.Tensor(ten)\n",
    "print(t)"
   ]
  },
  {
   "cell_type": "code",
   "execution_count": 16,
   "metadata": {},
   "outputs": [
    {
     "data": {
      "text/plain": [
       "torch.Size([2, 3])"
      ]
     },
     "execution_count": 16,
     "metadata": {},
     "output_type": "execute_result"
    }
   ],
   "source": [
    "m.size()"
   ]
  },
  {
   "cell_type": "code",
   "execution_count": 15,
   "metadata": {},
   "outputs": [
    {
     "data": {
      "text/plain": [
       "torch.Size([2, 2])"
      ]
     },
     "execution_count": 15,
     "metadata": {},
     "output_type": "execute_result"
    }
   ],
   "source": [
    "t = torch.randn(2, 2)\n",
    "t.size()"
   ]
  },
  {
   "cell_type": "code",
   "execution_count": 19,
   "metadata": {},
   "outputs": [
    {
     "name": "stdout",
     "output_type": "stream",
     "text": [
      "\n",
      "-0.6571 -1.6428  0.9803\n",
      "-0.0421 -0.8206  0.3133\n",
      "[torch.FloatTensor of size 2x3]\n",
      "\n",
      "\n",
      "-1.1352  0.3773 -0.2824\n",
      "-2.5667 -1.4303  0.5009\n",
      "[torch.FloatTensor of size 2x3]\n",
      "\n",
      "\n",
      "-1.7922 -1.2654  0.6979\n",
      "-2.6089 -2.2509  0.8142\n",
      "[torch.FloatTensor of size 2x3]\n",
      "\n"
     ]
    }
   ],
   "source": [
    "x = torch.randn(2, 3)\n",
    "y = torch.randn(2, 3)\n",
    "print(x)\n",
    "print(y)\n",
    "x.add_(y)\n",
    "print(x)"
   ]
  },
  {
   "cell_type": "code",
   "execution_count": 25,
   "metadata": {},
   "outputs": [
    {
     "data": {
      "text/plain": [
       "\n",
       " 0.6414  0.6523  0.6189  0.9147  0.2923\n",
       " 0.2889  0.0667  0.4795  0.2631  0.5200\n",
       " 0.3975  0.6659  0.9325  0.6475  0.3389\n",
       " 0.2547  0.0639  0.9207  0.4053  0.6009\n",
       " 0.5185  0.1814  0.7816  0.7802  0.5252\n",
       " 0.2159  0.2875  0.5069  0.2143  0.2210\n",
       "[torch.FloatTensor of size 6x5]"
      ]
     },
     "execution_count": 25,
     "metadata": {},
     "output_type": "execute_result"
    }
   ],
   "source": [
    "x_1 = torch.rand(2, 5)\n",
    "y_1 = torch.rand(4, 5)\n",
    "\n",
    "z_1 = torch.cat([x_1, y_1], dim=0)\n",
    "\n",
    "z_1"
   ]
  },
  {
   "cell_type": "code",
   "execution_count": 28,
   "metadata": {},
   "outputs": [
    {
     "data": {
      "text/plain": [
       "\n",
       " 0.4148  0.3844  0.3161  0.8056  0.6096  0.3236  0.3110\n",
       " 0.2499  0.0427  0.2065  0.8194  0.8604  0.9817  0.6459\n",
       "[torch.FloatTensor of size 2x7]"
      ]
     },
     "execution_count": 28,
     "metadata": {},
     "output_type": "execute_result"
    }
   ],
   "source": [
    "x_1 = torch.rand(2, 3)\n",
    "y_1 = torch.rand(2, 4)\n",
    "\n",
    "z_1 = torch.cat([x_1, y_1], dim=1)\n",
    "\n",
    "z_1"
   ]
  },
  {
   "cell_type": "code",
   "execution_count": 35,
   "metadata": {},
   "outputs": [
    {
     "name": "stdout",
     "output_type": "stream",
     "text": [
      "\n",
      " 0.8026 -0.3939  0.6067\n",
      " 1.5321  0.0224  0.5590\n",
      "[torch.FloatTensor of size 2x3]\n",
      "\n"
     ]
    },
    {
     "data": {
      "text/plain": [
       "\n",
       " 0.8026 -0.3939  0.6067  1.5321  0.0224  0.5590\n",
       "[torch.FloatTensor of size 1x6]"
      ]
     },
     "execution_count": 35,
     "metadata": {},
     "output_type": "execute_result"
    }
   ],
   "source": [
    "x = torch.randn(2, 3)\n",
    "print(x)\n",
    "x.view(1, 6)"
   ]
  },
  {
   "cell_type": "code",
   "execution_count": 63,
   "metadata": {},
   "outputs": [],
   "source": [
    "x1 = autograd.Variable(torch.randn(2, 3), requires_grad=True)\n",
    "y1 = autograd.Variable(torch.randn(2, 3), requires_grad=True)\n",
    "\n",
    "z1 = torch.mul(x1, y1)\n",
    "s1 = z1.sum()"
   ]
  },
  {
   "cell_type": "code",
   "execution_count": 65,
   "metadata": {},
   "outputs": [],
   "source": [
    "s1.backward()"
   ]
  },
  {
   "cell_type": "code",
   "execution_count": 66,
   "metadata": {},
   "outputs": [
    {
     "data": {
      "text/plain": [
       "Variable containing:\n",
       "-1.3036  0.1998 -1.3616\n",
       " 0.3495 -1.0342 -1.7440\n",
       "[torch.FloatTensor of size 2x3]"
      ]
     },
     "execution_count": 66,
     "metadata": {},
     "output_type": "execute_result"
    }
   ],
   "source": [
    "x1.grad"
   ]
  }
 ],
 "metadata": {
  "kernelspec": {
   "display_name": "Python 3",
   "language": "python",
   "name": "python3"
  },
  "language_info": {
   "codemirror_mode": {
    "name": "ipython",
    "version": 3
   },
   "file_extension": ".py",
   "mimetype": "text/x-python",
   "name": "python",
   "nbconvert_exporter": "python",
   "pygments_lexer": "ipython3",
   "version": "3.6.3"
  }
 },
 "nbformat": 4,
 "nbformat_minor": 2
}
